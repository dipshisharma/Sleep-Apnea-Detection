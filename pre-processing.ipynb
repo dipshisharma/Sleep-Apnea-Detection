{
 "cells": [
  {
   "cell_type": "code",
   "execution_count": 2,
   "metadata": {
    "scrolled": true
   },
   "outputs": [],
   "source": [
    "# -*- coding: <utf-8> -*-\n",
    "import wfdb\n",
    "import matplotlib.pyplot as plt\n",
    "import numpy as np\n",
    "from hrv.filters import quotient, moving_median\n",
    "from scipy import interpolate\n",
    "from tqdm import tqdm\n",
    "FS = 100.0"
   ]
  },
  {
   "cell_type": "code",
   "execution_count": 5,
   "metadata": {},
   "outputs": [],
   "source": [
    "def time_rr_interval(rri):\n",
    "    #convert time to seconds\n",
    "    rri_time = np.cumsum(rri) / 1000.0\n",
    "    #time should start from zero\n",
    "    return rri_time - rri_time[0]  \n",
    "\n",
    "def create_interp_time(rri, fs):\n",
    "    time_rri = time_rr_interval(rri)\n",
    "    return np.arange(0, time_rri[-1], 1 / float(fs))\n",
    "\n",
    "def time_cubic_spline_qrs(qrs_index, qrs_amp, fs):\n",
    "    time_qrs = qrs_index / float(FS)\n",
    "    time_qrs = time_qrs - time_qrs[0]\n",
    "    time_qrs_interp = np.arange(0, time_qrs[-1], 1/float(fs))\n",
    "    tck = interpolate.splrep(time_qrs, qrs_amp, s=0)\n",
    "    qrs_interp = interpolate.splev(time_qrs_interp, tck, der=0)\n",
    "    return time_qrs_interp, qrs_interp\n",
    "\n",
    "def time_cubic_spline_rri(rri, fs):\n",
    "    time_rri = time_rr_interval(rri)\n",
    "    time_rri_interp = create_interp_time(rri, fs)\n",
    "    tck = interpolate.splrep(time_rri, rri, s=0)\n",
    "    rri_interp = interpolate.splev(time_rri_interp, tck, der=0)\n",
    "    return time_rri_interp, rri_interp\n"
   ]
  },
  {
   "cell_type": "code",
   "execution_count": null,
   "metadata": {},
   "outputs": [],
   "source": [
    "data_path= 'C:/Users/HP/PROJECT1/www.physionet.org/physiobank/database/apnea-ecg/'\n",
    "train_data_name = ['a01', 'a02', 'a03', 'a04', 'a05',\n",
    "             'a06', 'a07', 'a08', 'a09', 'a10',\n",
    "             'a11', 'a12', 'a13', 'a14', 'a15',\n",
    "             'a16', 'a17', 'a18', 'a19', 'a20',\n",
    "             'b01', 'b02', 'b03', 'b04', 'b05',\n",
    "             'c01', 'c02', 'c03', 'c04', 'c05',\n",
    "             'c06', 'c07', 'c08', 'c09', 'c10'\n",
    "             ]\n",
    "age = [51, 38, 54, 52, 58,\n",
    "       63, 44, 51, 52, 58,\n",
    "       58, 52, 51, 51, 60,\n",
    "       44, 40, 52, 55, 58,\n",
    "       44, 53, 53, 42, 52,\n",
    "       31, 37, 39, 41, 28,\n",
    "       28, 30, 42, 37, 27]\n",
    "gender = [1, 1, 1, 1, 1,\n",
    "       1, 1, 1, 1, 1,\n",
    "       1, 1, 1, 1, 1,\n",
    "       1, 1, 1, 1, 1,\n",
    "       0, 1, 1, 1, 1,\n",
    "       1, 1, 1, 0, 0,\n",
    "       0, 0, 1, 1, 1]\n"
   ]
  },
  {
   "cell_type": "code",
   "execution_count": null,
   "metadata": {},
   "outputs": [],
   "source": [
    "def get_qrs_amp(ecg, qrs):\n",
    "    interval = int(FS * 0.250)\n",
    "    qrs_amp = []\n",
    "    for index in range(len(qrs)):\n",
    "        curr_qrs = qrs[index]\n",
    "        amp = np.max(ecg[curr_qrs-interval:curr_qrs+interval])\n",
    "        qrs_amp.append(amp)\n",
    "\n",
    "    return qrs_amp"
   ]
  },
  {
   "cell_type": "code",
   "execution_count": null,
   "metadata": {
    "scrolled": true
   },
   "outputs": [
    {
     "name": "stdout",
     "output_type": "stream",
     "text": [
      "a01\n"
     ]
    },
    {
     "name": "stderr",
     "output_type": "stream",
     "text": [
      "100%|████████████████████████████████████████████████████████████████████████████████| 488/488 [07:48<00:00,  1.78s/it]\n"
     ]
    },
    {
     "name": "stdout",
     "output_type": "stream",
     "text": [
      "a02\n"
     ]
    },
    {
     "name": "stderr",
     "output_type": "stream",
     "text": [
      "100%|████████████████████████████████████████████████████████████████████████████████| 527/527 [09:33<00:00,  2.06s/it]\n"
     ]
    },
    {
     "name": "stdout",
     "output_type": "stream",
     "text": [
      "a03\n"
     ]
    },
    {
     "name": "stderr",
     "output_type": "stream",
     "text": [
      "100%|████████████████████████████████████████████████████████████████████████████████| 518/518 [17:34<00:00,  2.97s/it]\n"
     ]
    },
    {
     "name": "stdout",
     "output_type": "stream",
     "text": [
      "a04\n"
     ]
    },
    {
     "name": "stderr",
     "output_type": "stream",
     "text": [
      "100%|████████████████████████████████████████████████████████████████████████████████| 491/491 [11:20<00:00,  1.78s/it]\n"
     ]
    },
    {
     "name": "stdout",
     "output_type": "stream",
     "text": [
      "a05\n"
     ]
    },
    {
     "name": "stderr",
     "output_type": "stream",
     "text": [
      "100%|████████████████████████████████████████████████████████████████████████████████| 453/453 [09:46<00:00,  3.07s/it]\n"
     ]
    },
    {
     "name": "stdout",
     "output_type": "stream",
     "text": [
      "a06\n"
     ]
    },
    {
     "name": "stderr",
     "output_type": "stream",
     "text": [
      "100%|████████████████████████████████████████████████████████████████████████████████| 509/509 [11:04<00:00,  2.39s/it]\n"
     ]
    },
    {
     "name": "stdout",
     "output_type": "stream",
     "text": [
      "a07\n"
     ]
    },
    {
     "name": "stderr",
     "output_type": "stream",
     "text": [
      " 19%|███████████████▋                                                                 | 99/510 [00:35<03:19,  2.06it/s]"
     ]
    }
   ],
   "source": [
    "MARGIN = 10\n",
    "FS_INTP = 4\n",
    "MAX_HR = 300.0\n",
    "MIN_HR = 20.0\n",
    "MIN_RRI = 1.0 / (MAX_HR / 60.0) * 1000\n",
    "MAX_RRI = 1.0 / (MIN_HR / 60.0) * 1000\n",
    "input_array = []\n",
    "label_array = []\n",
    "for data_index in range(len(train_data_name)):\n",
    "    print (train_data_name[data_index])\n",
    "    win_num = len(wfdb.rdann(data_path + train_data_name[data_index], 'apn').symbol)\n",
    "    signals, fields = wfdb.rdsamp(data_path + train_data_name[data_index])\n",
    "    for index in tqdm(range(1, win_num)):\n",
    "        samp_from = index * 60 * FS # segmented to 60 seconds\n",
    "        samp_to = samp_from + 60 * FS  # segmented to 60 seconds\n",
    "\n",
    "        qrs_ann = wfdb.rdann(data_path + train_data_name[data_index], 'qrs', sampfrom=samp_from - (MARGIN*100), sampto=samp_to + (MARGIN*100)).sample\n",
    "        apn_ann = wfdb.rdann(data_path + train_data_name[data_index], 'apn', sampfrom=samp_from, sampto=samp_to-1).symbol\n",
    "\n",
    "        qrs_amp = get_qrs_amp(signals, qrs_ann)\n",
    "\n",
    "        rri = np.diff(qrs_ann)\n",
    "        rri_ms = rri.astype('float') / FS * 1000.0\n",
    "\n",
    "        rri_filter = moving_median(rri_ms)\n",
    "        qrs_filter = moving_median(qrs_amp)\n",
    "        if rri_filter.shape[0] > 5 and (np.min(rri_filter) >= MIN_RRI and np.max(rri_filter) <= MAX_RRI):\n",
    "            time_intp, rri_intp = time_cubic_spline_rri(rri_filter, FS_INTP)\n",
    "            qrs_time_intp, qrs_intp = time_cubic_spline_qrs(qrs_ann, qrs_amp, FS_INTP)\n",
    "            rri_intp = rri_intp[(time_intp >= MARGIN) & (time_intp < (60+MARGIN))]\n",
    "            qrs_intp = qrs_intp[(qrs_time_intp >= MARGIN) & (qrs_time_intp < (60 + MARGIN))]\n",
    "\n",
    "            if len(rri_intp) != (FS_INTP * 60):\n",
    "                flag = 1\n",
    "            else:\n",
    "                flag = 0\n",
    "\n",
    "            if flag == 0:\n",
    "                rri_intp = rri_intp - np.mean(rri_intp)\n",
    "                qrs_intp = qrs_intp - np.mean(qrs_intp)\n",
    "                # N denotes Normal and A denotes Apnea\n",
    "                if apn_ann[0] == 'N':\n",
    "                    label = 0.0\n",
    "                elif apn_ann[0] == 'A':\n",
    "                    label = 1.0\n",
    "                else:\n",
    "                    label = 2.0\n",
    "\n",
    "                input_array.append([rri_intp, qrs_intp, age[data_index], gender[data_index]])\n",
    "                label_array.append(label)\n",
    "        else:\n",
    "            xyz=1\n",
    "\n",
    "np.save('train_input.npy', input_array)\n",
    "np.save('train_label.npy', label_array)"
   ]
  },
  {
   "cell_type": "code",
   "execution_count": null,
   "metadata": {},
   "outputs": [],
   "source": []
  }
 ],
 "metadata": {
  "kernelspec": {
   "display_name": "Python 3",
   "language": "python",
   "name": "python3"
  },
  "language_info": {
   "codemirror_mode": {
    "name": "ipython",
    "version": 3
   },
   "file_extension": ".py",
   "mimetype": "text/x-python",
   "name": "python",
   "nbconvert_exporter": "python",
   "pygments_lexer": "ipython3",
   "version": "3.6.6"
  }
 },
 "nbformat": 4,
 "nbformat_minor": 2
}
